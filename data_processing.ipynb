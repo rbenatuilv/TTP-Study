{
 "cells": [
  {
   "cell_type": "code",
   "execution_count": 2,
   "metadata": {},
   "outputs": [],
   "source": [
    "import pandas as pd\n",
    "import os\n"
   ]
  },
  {
   "cell_type": "code",
   "execution_count": 3,
   "metadata": {},
   "outputs": [],
   "source": [
    "data_folder = 'instancesTTP'\n",
    "\n",
    "methods = ['MIP', 'CP', 'IP Gen Col IP', 'IP Gen Col CP']\n",
    "N = [4, 6, 8, 10]\n",
    "\n",
    "data = {}\n",
    "\n",
    "for n in N:\n",
    "    for method in methods:\n",
    "        path = os.path.join(data_folder, f'results_{method}', f'results_N_{n}.csv')\n",
    "        data[n, method] = pd.read_csv(path, sep=';')\n"
   ]
  },
  {
   "cell_type": "code",
   "execution_count": 19,
   "metadata": {},
   "outputs": [],
   "source": [
    "new_data = {}\n",
    "\n",
    "for n, method in data:\n",
    "    if n not in new_data:\n",
    "        new_data[n] = {}\n",
    "\n",
    "    new_data[n][method] = {}\n",
    "\n",
    "    new_data[n][method]['Tiempo'] = data[n, method]['time'].mean()\n",
    "\n",
    "    new_data[n][method]['# Optimo'] = sum(data[n, method]['status'] == 'Optimal')\n",
    "\n",
    "    new_data[n][method]['# Timeout'] = 5 - sum(data[n, method]['status'] == 'Optimal')\n",
    "    \n",
    "\n",
    "new_data = {n: pd.DataFrame(new_data[n]).T for n in N}"
   ]
  },
  {
   "cell_type": "code",
   "execution_count": 22,
   "metadata": {},
   "outputs": [],
   "source": [
    "for n in new_data:\n",
    "    path = os.path.join('tables', f'results_{n}.csv')\n",
    "    new_data[n].to_csv(path, sep=',')\n"
   ]
  },
  {
   "cell_type": "code",
   "execution_count": null,
   "metadata": {},
   "outputs": [],
   "source": []
  }
 ],
 "metadata": {
  "kernelspec": {
   "display_name": "Python 3",
   "language": "python",
   "name": "python3"
  },
  "language_info": {
   "codemirror_mode": {
    "name": "ipython",
    "version": 3
   },
   "file_extension": ".py",
   "mimetype": "text/x-python",
   "name": "python",
   "nbconvert_exporter": "python",
   "pygments_lexer": "ipython3",
   "version": "3.11.5"
  }
 },
 "nbformat": 4,
 "nbformat_minor": 2
}
